{
  "nbformat": 4,
  "nbformat_minor": 0,
  "metadata": {
    "colab": {
      "name": "Copy of anchor_optimization.ipynb",
      "provenance": [],
      "collapsed_sections": []
    },
    "kernelspec": {
      "name": "python3",
      "display_name": "Python 3"
    },
    "accelerator": "GPU"
  },
  "cells": [
    {
      "cell_type": "code",
      "metadata": {
        "id": "pNfaV4_vQsxJ",
        "colab": {
          "base_uri": "https://localhost:8080/"
        },
        "outputId": "69a20eba-0860-451f-9852-3b216dd39bac"
      },
      "source": [
        "from google.colab import drive\n",
        "drive.mount('/content/drive')"
      ],
      "execution_count": null,
      "outputs": [
        {
          "output_type": "stream",
          "text": [
            "Mounted at /content/drive\n"
          ],
          "name": "stdout"
        }
      ]
    },
    {
      "cell_type": "code",
      "metadata": {
        "id": "NeW35_sE3cH3",
        "colab": {
          "base_uri": "https://localhost:8080/"
        },
        "outputId": "6df71399-fb0f-48aa-d811-0d94a6197243"
      },
      "source": [
        "%cd /content/drive/My Drive/anchor-optimization"
      ],
      "execution_count": null,
      "outputs": [
        {
          "output_type": "stream",
          "text": [
            "/content/drive/My Drive/anchor-optimization\n"
          ],
          "name": "stdout"
        }
      ]
    },
    {
      "cell_type": "code",
      "metadata": {
        "id": "1kOVwvOl3vhx",
        "colab": {
          "base_uri": "https://localhost:8080/"
        },
        "outputId": "52f4ca57-6734-437f-c088-e5d1e0300eaf"
      },
      "source": [
        "!git clone https://github.com/martinzlocha/anchor-optimization.git"
      ],
      "execution_count": null,
      "outputs": [
        {
          "output_type": "stream",
          "text": [
            "Cloning into 'anchor-optimization'...\n",
            "remote: Enumerating objects: 77, done.\u001b[K\n",
            "remote: Counting objects: 100% (77/77), done.\u001b[K\n",
            "remote: Compressing objects: 100% (54/54), done.\u001b[K\n",
            "remote: Total 77 (delta 39), reused 49 (delta 21), pack-reused 0\u001b[K\n",
            "Unpacking objects: 100% (77/77), done.\n"
          ],
          "name": "stdout"
        }
      ]
    },
    {
      "cell_type": "code",
      "metadata": {
        "id": "6fd_y7n635IX",
        "colab": {
          "base_uri": "https://localhost:8080/"
        },
        "outputId": "50862880-dea5-4a65-91f7-14fcc00df90c"
      },
      "source": [
        "pip install ."
      ],
      "execution_count": null,
      "outputs": [
        {
          "output_type": "stream",
          "text": [
            "Processing /content/drive/My Drive/anchor-optimization\n",
            "Collecting keras_retinanet==0.5.1\n",
            "\u001b[?25l  Downloading https://files.pythonhosted.org/packages/20/ca/63f77949493c63eebf982bc1edb0b54d849b6d709a724328ea5682e6b40e/keras-retinanet-0.5.1.tar.gz (61kB)\n",
            "\u001b[K     |████████████████████████████████| 61kB 2.8MB/s \n",
            "\u001b[?25hRequirement already satisfied: numpy in /usr/local/lib/python3.6/dist-packages (from anchor-optimization==0.0.1) (1.18.5)\n",
            "Requirement already satisfied: scipy>=1.2.0 in /usr/local/lib/python3.6/dist-packages (from anchor-optimization==0.0.1) (1.4.1)\n",
            "Requirement already satisfied: cython in /usr/local/lib/python3.6/dist-packages (from anchor-optimization==0.0.1) (0.29.21)\n",
            "Requirement already satisfied: keras in /usr/local/lib/python3.6/dist-packages (from keras_retinanet==0.5.1->anchor-optimization==0.0.1) (2.4.3)\n",
            "Collecting keras-resnet\n",
            "  Downloading https://files.pythonhosted.org/packages/76/d4/a35cbd07381139dda4db42c81b88c59254faac026109022727b45b31bcad/keras-resnet-0.2.0.tar.gz\n",
            "Requirement already satisfied: six in /usr/local/lib/python3.6/dist-packages (from keras_retinanet==0.5.1->anchor-optimization==0.0.1) (1.15.0)\n",
            "Requirement already satisfied: Pillow in /usr/local/lib/python3.6/dist-packages (from keras_retinanet==0.5.1->anchor-optimization==0.0.1) (7.0.0)\n",
            "Requirement already satisfied: opencv-python in /usr/local/lib/python3.6/dist-packages (from keras_retinanet==0.5.1->anchor-optimization==0.0.1) (4.1.2.30)\n",
            "Requirement already satisfied: progressbar2 in /usr/local/lib/python3.6/dist-packages (from keras_retinanet==0.5.1->anchor-optimization==0.0.1) (3.38.0)\n",
            "Requirement already satisfied: pyyaml in /usr/local/lib/python3.6/dist-packages (from keras->keras_retinanet==0.5.1->anchor-optimization==0.0.1) (3.13)\n",
            "Requirement already satisfied: h5py in /usr/local/lib/python3.6/dist-packages (from keras->keras_retinanet==0.5.1->anchor-optimization==0.0.1) (2.10.0)\n",
            "Requirement already satisfied: python-utils>=2.3.0 in /usr/local/lib/python3.6/dist-packages (from progressbar2->keras_retinanet==0.5.1->anchor-optimization==0.0.1) (2.4.0)\n",
            "Building wheels for collected packages: anchor-optimization, keras-retinanet, keras-resnet\n",
            "  Building wheel for anchor-optimization (setup.py) ... \u001b[?25l\u001b[?25hdone\n",
            "  Created wheel for anchor-optimization: filename=anchor_optimization-0.0.1-cp36-cp36m-linux_x86_64.whl size=81393 sha256=6874e481be82f341f98e3a91ff67b673f09907747082b8558e465fe110bde92c\n",
            "  Stored in directory: /root/.cache/pip/wheels/84/49/be/7d00669ff185d479be79eb67216bef02969fa0bace73cc91f5\n",
            "  Building wheel for keras-retinanet (setup.py) ... \u001b[?25l\u001b[?25hdone\n",
            "  Created wheel for keras-retinanet: filename=keras_retinanet-0.5.1-cp36-cp36m-linux_x86_64.whl size=154838 sha256=8a61c8327b6fd8c3db6b15ebc34a2b7fb6cec33583295575e5883579685dff36\n",
            "  Stored in directory: /root/.cache/pip/wheels/d9/a5/98/87f8ed08913b184bb625dde1c1277a4dfe969c77b377abde69\n",
            "  Building wheel for keras-resnet (setup.py) ... \u001b[?25l\u001b[?25hdone\n",
            "  Created wheel for keras-resnet: filename=keras_resnet-0.2.0-py2.py3-none-any.whl size=20487 sha256=d3cb40fe9cb02cab04bbd18929c59ca71c360ed5a6fca0c284fc5353d63254b3\n",
            "  Stored in directory: /root/.cache/pip/wheels/5f/09/a5/497a30fd9ad9964e98a1254d1e164bcd1b8a5eda36197ecb3c\n",
            "Successfully built anchor-optimization keras-retinanet keras-resnet\n",
            "Installing collected packages: keras-resnet, keras-retinanet, anchor-optimization\n",
            "Successfully installed anchor-optimization-0.0.1 keras-resnet-0.2.0 keras-retinanet-0.5.1\n"
          ],
          "name": "stdout"
        }
      ]
    },
    {
      "cell_type": "code",
      "metadata": {
        "id": "ZlpsOWrH4CNo",
        "colab": {
          "base_uri": "https://localhost:8080/"
        },
        "outputId": "262de188-5175-479b-f122-d2fdff93d7c6"
      },
      "source": [
        "!python setup.py build_ext --inplace"
      ],
      "execution_count": null,
      "outputs": [
        {
          "output_type": "stream",
          "text": [
            "running build_ext\n",
            "cythoning anchor_optimization/utils/compute_overlap.pyx to anchor_optimization/utils/compute_overlap.c\n",
            "/usr/local/lib/python3.6/dist-packages/Cython/Compiler/Main.py:369: FutureWarning: Cython directive 'language_level' not set, using 2 for now (Py2). This will change in a later release! File: /content/drive/My Drive/anchor-optimization/anchor_optimization/utils/compute_overlap.pyx\n",
            "  tree = Parsing.p_module(s, pxd, full_module_name)\n",
            "building 'anchor_optimization.utils.compute_overlap' extension\n",
            "creating build\n",
            "creating build/temp.linux-x86_64-3.6\n",
            "creating build/temp.linux-x86_64-3.6/anchor_optimization\n",
            "creating build/temp.linux-x86_64-3.6/anchor_optimization/utils\n",
            "x86_64-linux-gnu-gcc -pthread -DNDEBUG -g -fwrapv -O2 -Wall -g -fstack-protector-strong -Wformat -Werror=format-security -Wdate-time -D_FORTIFY_SOURCE=2 -fPIC -I/usr/include/python3.6m -I/usr/local/lib/python3.6/dist-packages/numpy/core/include -c anchor_optimization/utils/compute_overlap.c -o build/temp.linux-x86_64-3.6/anchor_optimization/utils/compute_overlap.o\n",
            "In file included from \u001b[01m\u001b[K/usr/local/lib/python3.6/dist-packages/numpy/core/include/numpy/ndarraytypes.h:1832:0\u001b[m\u001b[K,\n",
            "                 from \u001b[01m\u001b[K/usr/local/lib/python3.6/dist-packages/numpy/core/include/numpy/ndarrayobject.h:12\u001b[m\u001b[K,\n",
            "                 from \u001b[01m\u001b[K/usr/local/lib/python3.6/dist-packages/numpy/core/include/numpy/arrayobject.h:4\u001b[m\u001b[K,\n",
            "                 from \u001b[01m\u001b[Kanchor_optimization/utils/compute_overlap.c:610\u001b[m\u001b[K:\n",
            "\u001b[01m\u001b[K/usr/local/lib/python3.6/dist-packages/numpy/core/include/numpy/npy_1_7_deprecated_api.h:17:2:\u001b[m\u001b[K \u001b[01;35m\u001b[Kwarning: \u001b[m\u001b[K#warning \"Using deprecated NumPy API, disable it with \" \"#define NPY_NO_DEPRECATED_API NPY_1_7_API_VERSION\" [\u001b[01;35m\u001b[K-Wcpp\u001b[m\u001b[K]\n",
            " #\u001b[01;35m\u001b[Kwarning\u001b[m\u001b[K \"Using deprecated NumPy API, disable it with \" \\\n",
            "  \u001b[01;35m\u001b[K^~~~~~~\u001b[m\u001b[K\n",
            "creating build/lib.linux-x86_64-3.6\n",
            "creating build/lib.linux-x86_64-3.6/anchor_optimization\n",
            "creating build/lib.linux-x86_64-3.6/anchor_optimization/utils\n",
            "x86_64-linux-gnu-gcc -pthread -shared -Wl,-O1 -Wl,-Bsymbolic-functions -Wl,-Bsymbolic-functions -Wl,-z,relro -Wl,-Bsymbolic-functions -Wl,-z,relro -g -fstack-protector-strong -Wformat -Werror=format-security -Wdate-time -D_FORTIFY_SOURCE=2 build/temp.linux-x86_64-3.6/anchor_optimization/utils/compute_overlap.o -o build/lib.linux-x86_64-3.6/anchor_optimization/utils/compute_overlap.cpython-36m-x86_64-linux-gnu.so\n",
            "copying build/lib.linux-x86_64-3.6/anchor_optimization/utils/compute_overlap.cpython-36m-x86_64-linux-gnu.so -> anchor_optimization/utils\n"
          ],
          "name": "stdout"
        }
      ]
    },
    {
      "cell_type": "code",
      "metadata": {
        "id": "Qj1eF90s4I_m",
        "colab": {
          "base_uri": "https://localhost:8080/"
        },
        "outputId": "c5b86f3f-b7f9-4f33-d53c-00c1b5d5143c"
      },
      "source": [
        "!anchor-optimization /content/drive/My\\ Drive/keras-retinanet/dataset/train.csv --ratio=9  "
      ],
      "execution_count": null,
      "outputs": [
        {
          "output_type": "stream",
          "text": [
            "2020-11-07 06:32:44.039319: I tensorflow/stream_executor/platform/default/dso_loader.cc:48] Successfully opened dynamic library libcudart.so.10.1\n",
            "Optimization ended successfully!\n",
            "\n",
            "Final best anchor configuration\n",
            "State: 0.13678\n",
            "Ratios: [0.25, 0.403, 0.572, 0.764, 1.0, 1.309, 1.747, 2.479, 4.0]\n",
            "Scales: [0.406, 0.648, 1.043]\n",
            "Number of labels that don't have any matching anchor: 180\n"
          ],
          "name": "stdout"
        }
      ]
    },
    {
      "cell_type": "code",
      "metadata": {
        "id": "mr1EgPKd4ar8"
      },
      "source": [
        ""
      ],
      "execution_count": null,
      "outputs": []
    }
  ]
}